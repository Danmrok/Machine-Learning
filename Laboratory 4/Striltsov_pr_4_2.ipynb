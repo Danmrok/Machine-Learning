{
 "cells": [
  {
   "cell_type": "raw",
   "source": [
    "ЛАБОРАТОРНА РОБОТА 4 Задача класифікації.\n",
    "\n",
    "Завдання 2. Продовжуємо працювати з датасетом titanic.csv Завантажуємо, проводимо попередній аналіз даних (лр 2).\n",
    "Будуємо 3 класифікатори на вибір, визначаємо оптимальні параметри (оптимізатор – на вибір). \n",
    "Вибираємо найкращу модель. Виводимо характеристики, метрики.\n",
    "Робимо прогноз для 10 випадків."
   ],
   "metadata": {
    "collapsed": false
   },
   "id": "9ae60a9d6a75e3ce"
  },
  {
   "cell_type": "code",
   "execution_count": 1,
   "outputs": [],
   "source": [
    "import pandas as pd\n",
    "import numpy as np\n",
    "\n",
    "from sklearn.model_selection import train_test_split\n",
    "from sklearn.linear_model import LogisticRegression\n",
    "from sklearn.model_selection import GridSearchCV\n",
    "from sklearn.tree import DecisionTreeClassifier\n",
    "from sklearn.ensemble import RandomForestClassifier\n",
    "from sklearn.metrics import accuracy_score, confusion_matrix, classification_report\n",
    "from sklearn.preprocessing import StandardScaler"
   ],
   "metadata": {
    "collapsed": false,
    "ExecuteTime": {
     "end_time": "2024-08-24T17:19:06.324439Z",
     "start_time": "2024-08-24T17:19:05.373776Z"
    }
   },
   "id": "c9ffc7622d569e15"
  },
  {
   "cell_type": "code",
   "execution_count": 2,
   "outputs": [
    {
     "data": {
      "text/plain": "      PassengerId  Survived  Pclass  \\\n0               1       0.0       3   \n1               2       1.0       1   \n2               3       1.0       3   \n3               4       1.0       1   \n4               5       0.0       3   \n...           ...       ...     ...   \n1304         1305       NaN       3   \n1305         1306       NaN       1   \n1306         1307       NaN       3   \n1307         1308       NaN       3   \n1308         1309       NaN       3   \n\n                                                   Name     Sex   Age  SibSp  \\\n0                               Braund, Mr. Owen Harris    male  22.0      1   \n1     Cumings, Mrs. John Bradley (Florence Briggs Th...  female  38.0      1   \n2                                Heikkinen, Miss. Laina  female  26.0      0   \n3          Futrelle, Mrs. Jacques Heath (Lily May Peel)  female  35.0      1   \n4                              Allen, Mr. William Henry    male  35.0      0   \n...                                                 ...     ...   ...    ...   \n1304                                 Spector, Mr. Woolf    male   NaN      0   \n1305                       Oliva y Ocana, Dona. Fermina  female  39.0      0   \n1306                       Saether, Mr. Simon Sivertsen    male  38.5      0   \n1307                                Ware, Mr. Frederick    male   NaN      0   \n1308                           Peter, Master. Michael J    male   NaN      1   \n\n      Parch              Ticket      Fare  ... Embarked  WikiId  \\\n0         0           A/5 21171    7.2500  ...        S   691.0   \n1         0            PC 17599   71.2833  ...        C    90.0   \n2         0    STON/O2. 3101282    7.9250  ...        S   865.0   \n3         0              113803   53.1000  ...        S   127.0   \n4         0              373450    8.0500  ...        S   627.0   \n...     ...                 ...       ...  ...      ...     ...   \n1304      0           A.5. 3236    8.0500  ...        S  1227.0   \n1305      0            PC 17758  108.9000  ...        C   229.0   \n1306      0  SOTON/O.Q. 3101262    7.2500  ...        S  1169.0   \n1307      0              359309    8.0500  ...        S  1289.0   \n1308      1                2668   22.3583  ...        C   702.0   \n\n                                       Name_wiki Age_wiki  \\\n0                        Braund, Mr. Owen Harris     22.0   \n1     Cumings, Mrs. Florence Briggs (née Thayer)     35.0   \n2                          Heikkinen, Miss Laina     26.0   \n3             Futrelle, Mrs. Lily May (née Peel)     35.0   \n4                       Allen, Mr. William Henry     35.0   \n...                                          ...      ...   \n1304                          Spector, Mr. Woolf     23.0   \n1305        and maid, Doña Fermina Oliva y Ocana     39.0   \n1306                 Sæther, Mr. Simon Sivertsen     43.0   \n1307                 Ware, Mr. Frederick William     34.0   \n1308             Butrus-Youssef, Master Makhkhul      4.0   \n\n                                Hometown      Boarded  \\\n0             Bridgerule, Devon, England  Southampton   \n1                 New York, New York, US    Cherbourg   \n2                     Jyväskylä, Finland  Southampton   \n3            Scituate, Massachusetts, US  Southampton   \n4     Birmingham, West Midlands, England  Southampton   \n...                                  ...          ...   \n1304                     London, England  Southampton   \n1305                       Madrid, Spain    Cherbourg   \n1306        Skaun, Sør-Trøndelag, Norway  Southampton   \n1307          Greenwich, London, England  Southampton   \n1308                   Sar'al[81], Syria    Cherbourg   \n\n                                  Destination Lifeboat  Body Class  \n0     Qu'Appelle Valley, Saskatchewan, Canada      NaN   NaN   3.0  \n1                      New York, New York, US        4   NaN   1.0  \n2                               New York City      14?   NaN   3.0  \n3                 Scituate, Massachusetts, US        D   NaN   1.0  \n4                               New York City      NaN   NaN   3.0  \n...                                       ...      ...   ...   ...  \n1304                            New York City      NaN   NaN   3.0  \n1305                   New York, New York, US        8   NaN   1.0  \n1306                                       US      NaN  32MB   3.0  \n1307                            New York City      NaN   NaN   3.0  \n1308                    Detroit, Michigan, US        D   NaN   3.0  \n\n[1309 rows x 21 columns]",
      "text/html": "<div>\n<style scoped>\n    .dataframe tbody tr th:only-of-type {\n        vertical-align: middle;\n    }\n\n    .dataframe tbody tr th {\n        vertical-align: top;\n    }\n\n    .dataframe thead th {\n        text-align: right;\n    }\n</style>\n<table border=\"1\" class=\"dataframe\">\n  <thead>\n    <tr style=\"text-align: right;\">\n      <th></th>\n      <th>PassengerId</th>\n      <th>Survived</th>\n      <th>Pclass</th>\n      <th>Name</th>\n      <th>Sex</th>\n      <th>Age</th>\n      <th>SibSp</th>\n      <th>Parch</th>\n      <th>Ticket</th>\n      <th>Fare</th>\n      <th>...</th>\n      <th>Embarked</th>\n      <th>WikiId</th>\n      <th>Name_wiki</th>\n      <th>Age_wiki</th>\n      <th>Hometown</th>\n      <th>Boarded</th>\n      <th>Destination</th>\n      <th>Lifeboat</th>\n      <th>Body</th>\n      <th>Class</th>\n    </tr>\n  </thead>\n  <tbody>\n    <tr>\n      <th>0</th>\n      <td>1</td>\n      <td>0.0</td>\n      <td>3</td>\n      <td>Braund, Mr. Owen Harris</td>\n      <td>male</td>\n      <td>22.0</td>\n      <td>1</td>\n      <td>0</td>\n      <td>A/5 21171</td>\n      <td>7.2500</td>\n      <td>...</td>\n      <td>S</td>\n      <td>691.0</td>\n      <td>Braund, Mr. Owen Harris</td>\n      <td>22.0</td>\n      <td>Bridgerule, Devon, England</td>\n      <td>Southampton</td>\n      <td>Qu'Appelle Valley, Saskatchewan, Canada</td>\n      <td>NaN</td>\n      <td>NaN</td>\n      <td>3.0</td>\n    </tr>\n    <tr>\n      <th>1</th>\n      <td>2</td>\n      <td>1.0</td>\n      <td>1</td>\n      <td>Cumings, Mrs. John Bradley (Florence Briggs Th...</td>\n      <td>female</td>\n      <td>38.0</td>\n      <td>1</td>\n      <td>0</td>\n      <td>PC 17599</td>\n      <td>71.2833</td>\n      <td>...</td>\n      <td>C</td>\n      <td>90.0</td>\n      <td>Cumings, Mrs. Florence Briggs (née Thayer)</td>\n      <td>35.0</td>\n      <td>New York, New York, US</td>\n      <td>Cherbourg</td>\n      <td>New York, New York, US</td>\n      <td>4</td>\n      <td>NaN</td>\n      <td>1.0</td>\n    </tr>\n    <tr>\n      <th>2</th>\n      <td>3</td>\n      <td>1.0</td>\n      <td>3</td>\n      <td>Heikkinen, Miss. Laina</td>\n      <td>female</td>\n      <td>26.0</td>\n      <td>0</td>\n      <td>0</td>\n      <td>STON/O2. 3101282</td>\n      <td>7.9250</td>\n      <td>...</td>\n      <td>S</td>\n      <td>865.0</td>\n      <td>Heikkinen, Miss Laina</td>\n      <td>26.0</td>\n      <td>Jyväskylä, Finland</td>\n      <td>Southampton</td>\n      <td>New York City</td>\n      <td>14?</td>\n      <td>NaN</td>\n      <td>3.0</td>\n    </tr>\n    <tr>\n      <th>3</th>\n      <td>4</td>\n      <td>1.0</td>\n      <td>1</td>\n      <td>Futrelle, Mrs. Jacques Heath (Lily May Peel)</td>\n      <td>female</td>\n      <td>35.0</td>\n      <td>1</td>\n      <td>0</td>\n      <td>113803</td>\n      <td>53.1000</td>\n      <td>...</td>\n      <td>S</td>\n      <td>127.0</td>\n      <td>Futrelle, Mrs. Lily May (née Peel)</td>\n      <td>35.0</td>\n      <td>Scituate, Massachusetts, US</td>\n      <td>Southampton</td>\n      <td>Scituate, Massachusetts, US</td>\n      <td>D</td>\n      <td>NaN</td>\n      <td>1.0</td>\n    </tr>\n    <tr>\n      <th>4</th>\n      <td>5</td>\n      <td>0.0</td>\n      <td>3</td>\n      <td>Allen, Mr. William Henry</td>\n      <td>male</td>\n      <td>35.0</td>\n      <td>0</td>\n      <td>0</td>\n      <td>373450</td>\n      <td>8.0500</td>\n      <td>...</td>\n      <td>S</td>\n      <td>627.0</td>\n      <td>Allen, Mr. William Henry</td>\n      <td>35.0</td>\n      <td>Birmingham, West Midlands, England</td>\n      <td>Southampton</td>\n      <td>New York City</td>\n      <td>NaN</td>\n      <td>NaN</td>\n      <td>3.0</td>\n    </tr>\n    <tr>\n      <th>...</th>\n      <td>...</td>\n      <td>...</td>\n      <td>...</td>\n      <td>...</td>\n      <td>...</td>\n      <td>...</td>\n      <td>...</td>\n      <td>...</td>\n      <td>...</td>\n      <td>...</td>\n      <td>...</td>\n      <td>...</td>\n      <td>...</td>\n      <td>...</td>\n      <td>...</td>\n      <td>...</td>\n      <td>...</td>\n      <td>...</td>\n      <td>...</td>\n      <td>...</td>\n      <td>...</td>\n    </tr>\n    <tr>\n      <th>1304</th>\n      <td>1305</td>\n      <td>NaN</td>\n      <td>3</td>\n      <td>Spector, Mr. Woolf</td>\n      <td>male</td>\n      <td>NaN</td>\n      <td>0</td>\n      <td>0</td>\n      <td>A.5. 3236</td>\n      <td>8.0500</td>\n      <td>...</td>\n      <td>S</td>\n      <td>1227.0</td>\n      <td>Spector, Mr. Woolf</td>\n      <td>23.0</td>\n      <td>London, England</td>\n      <td>Southampton</td>\n      <td>New York City</td>\n      <td>NaN</td>\n      <td>NaN</td>\n      <td>3.0</td>\n    </tr>\n    <tr>\n      <th>1305</th>\n      <td>1306</td>\n      <td>NaN</td>\n      <td>1</td>\n      <td>Oliva y Ocana, Dona. Fermina</td>\n      <td>female</td>\n      <td>39.0</td>\n      <td>0</td>\n      <td>0</td>\n      <td>PC 17758</td>\n      <td>108.9000</td>\n      <td>...</td>\n      <td>C</td>\n      <td>229.0</td>\n      <td>and maid, Doña Fermina Oliva y Ocana</td>\n      <td>39.0</td>\n      <td>Madrid, Spain</td>\n      <td>Cherbourg</td>\n      <td>New York, New York, US</td>\n      <td>8</td>\n      <td>NaN</td>\n      <td>1.0</td>\n    </tr>\n    <tr>\n      <th>1306</th>\n      <td>1307</td>\n      <td>NaN</td>\n      <td>3</td>\n      <td>Saether, Mr. Simon Sivertsen</td>\n      <td>male</td>\n      <td>38.5</td>\n      <td>0</td>\n      <td>0</td>\n      <td>SOTON/O.Q. 3101262</td>\n      <td>7.2500</td>\n      <td>...</td>\n      <td>S</td>\n      <td>1169.0</td>\n      <td>Sæther, Mr. Simon Sivertsen</td>\n      <td>43.0</td>\n      <td>Skaun, Sør-Trøndelag, Norway</td>\n      <td>Southampton</td>\n      <td>US</td>\n      <td>NaN</td>\n      <td>32MB</td>\n      <td>3.0</td>\n    </tr>\n    <tr>\n      <th>1307</th>\n      <td>1308</td>\n      <td>NaN</td>\n      <td>3</td>\n      <td>Ware, Mr. Frederick</td>\n      <td>male</td>\n      <td>NaN</td>\n      <td>0</td>\n      <td>0</td>\n      <td>359309</td>\n      <td>8.0500</td>\n      <td>...</td>\n      <td>S</td>\n      <td>1289.0</td>\n      <td>Ware, Mr. Frederick William</td>\n      <td>34.0</td>\n      <td>Greenwich, London, England</td>\n      <td>Southampton</td>\n      <td>New York City</td>\n      <td>NaN</td>\n      <td>NaN</td>\n      <td>3.0</td>\n    </tr>\n    <tr>\n      <th>1308</th>\n      <td>1309</td>\n      <td>NaN</td>\n      <td>3</td>\n      <td>Peter, Master. Michael J</td>\n      <td>male</td>\n      <td>NaN</td>\n      <td>1</td>\n      <td>1</td>\n      <td>2668</td>\n      <td>22.3583</td>\n      <td>...</td>\n      <td>C</td>\n      <td>702.0</td>\n      <td>Butrus-Youssef, Master Makhkhul</td>\n      <td>4.0</td>\n      <td>Sar'al[81], Syria</td>\n      <td>Cherbourg</td>\n      <td>Detroit, Michigan, US</td>\n      <td>D</td>\n      <td>NaN</td>\n      <td>3.0</td>\n    </tr>\n  </tbody>\n</table>\n<p>1309 rows × 21 columns</p>\n</div>"
     },
     "execution_count": 2,
     "metadata": {},
     "output_type": "execute_result"
    }
   ],
   "source": [
    "# Завантаження датасету\n",
    "df = pd.read_csv('full.csv')\n",
    "df"
   ],
   "metadata": {
    "collapsed": false,
    "ExecuteTime": {
     "end_time": "2024-08-24T17:19:06.344090Z",
     "start_time": "2024-08-24T17:19:06.324832Z"
    }
   },
   "id": "1662440b918bd3ca"
  },
  {
   "cell_type": "code",
   "execution_count": 3,
   "outputs": [
    {
     "data": {
      "text/plain": "   PassengerId  Survived  Pclass  \\\n0            1       0.0       3   \n1            2       1.0       1   \n2            3       1.0       3   \n3            4       1.0       1   \n4            5       0.0       3   \n\n                                                Name     Sex   Age  SibSp  \\\n0                            Braund, Mr. Owen Harris    male  22.0      1   \n1  Cumings, Mrs. John Bradley (Florence Briggs Th...  female  38.0      1   \n2                             Heikkinen, Miss. Laina  female  26.0      0   \n3       Futrelle, Mrs. Jacques Heath (Lily May Peel)  female  35.0      1   \n4                           Allen, Mr. William Henry    male  35.0      0   \n\n   Parch            Ticket     Fare  ... Embarked WikiId  \\\n0      0         A/5 21171   7.2500  ...        S  691.0   \n1      0          PC 17599  71.2833  ...        C   90.0   \n2      0  STON/O2. 3101282   7.9250  ...        S  865.0   \n3      0            113803  53.1000  ...        S  127.0   \n4      0            373450   8.0500  ...        S  627.0   \n\n                                    Name_wiki Age_wiki  \\\n0                     Braund, Mr. Owen Harris     22.0   \n1  Cumings, Mrs. Florence Briggs (née Thayer)     35.0   \n2                       Heikkinen, Miss Laina     26.0   \n3          Futrelle, Mrs. Lily May (née Peel)     35.0   \n4                    Allen, Mr. William Henry     35.0   \n\n                             Hometown      Boarded  \\\n0          Bridgerule, Devon, England  Southampton   \n1              New York, New York, US    Cherbourg   \n2                  Jyväskylä, Finland  Southampton   \n3         Scituate, Massachusetts, US  Southampton   \n4  Birmingham, West Midlands, England  Southampton   \n\n                               Destination Lifeboat Body Class  \n0  Qu'Appelle Valley, Saskatchewan, Canada      NaN  NaN   3.0  \n1                   New York, New York, US        4  NaN   1.0  \n2                            New York City      14?  NaN   3.0  \n3              Scituate, Massachusetts, US        D  NaN   1.0  \n4                            New York City      NaN  NaN   3.0  \n\n[5 rows x 21 columns]",
      "text/html": "<div>\n<style scoped>\n    .dataframe tbody tr th:only-of-type {\n        vertical-align: middle;\n    }\n\n    .dataframe tbody tr th {\n        vertical-align: top;\n    }\n\n    .dataframe thead th {\n        text-align: right;\n    }\n</style>\n<table border=\"1\" class=\"dataframe\">\n  <thead>\n    <tr style=\"text-align: right;\">\n      <th></th>\n      <th>PassengerId</th>\n      <th>Survived</th>\n      <th>Pclass</th>\n      <th>Name</th>\n      <th>Sex</th>\n      <th>Age</th>\n      <th>SibSp</th>\n      <th>Parch</th>\n      <th>Ticket</th>\n      <th>Fare</th>\n      <th>...</th>\n      <th>Embarked</th>\n      <th>WikiId</th>\n      <th>Name_wiki</th>\n      <th>Age_wiki</th>\n      <th>Hometown</th>\n      <th>Boarded</th>\n      <th>Destination</th>\n      <th>Lifeboat</th>\n      <th>Body</th>\n      <th>Class</th>\n    </tr>\n  </thead>\n  <tbody>\n    <tr>\n      <th>0</th>\n      <td>1</td>\n      <td>0.0</td>\n      <td>3</td>\n      <td>Braund, Mr. Owen Harris</td>\n      <td>male</td>\n      <td>22.0</td>\n      <td>1</td>\n      <td>0</td>\n      <td>A/5 21171</td>\n      <td>7.2500</td>\n      <td>...</td>\n      <td>S</td>\n      <td>691.0</td>\n      <td>Braund, Mr. Owen Harris</td>\n      <td>22.0</td>\n      <td>Bridgerule, Devon, England</td>\n      <td>Southampton</td>\n      <td>Qu'Appelle Valley, Saskatchewan, Canada</td>\n      <td>NaN</td>\n      <td>NaN</td>\n      <td>3.0</td>\n    </tr>\n    <tr>\n      <th>1</th>\n      <td>2</td>\n      <td>1.0</td>\n      <td>1</td>\n      <td>Cumings, Mrs. John Bradley (Florence Briggs Th...</td>\n      <td>female</td>\n      <td>38.0</td>\n      <td>1</td>\n      <td>0</td>\n      <td>PC 17599</td>\n      <td>71.2833</td>\n      <td>...</td>\n      <td>C</td>\n      <td>90.0</td>\n      <td>Cumings, Mrs. Florence Briggs (née Thayer)</td>\n      <td>35.0</td>\n      <td>New York, New York, US</td>\n      <td>Cherbourg</td>\n      <td>New York, New York, US</td>\n      <td>4</td>\n      <td>NaN</td>\n      <td>1.0</td>\n    </tr>\n    <tr>\n      <th>2</th>\n      <td>3</td>\n      <td>1.0</td>\n      <td>3</td>\n      <td>Heikkinen, Miss. Laina</td>\n      <td>female</td>\n      <td>26.0</td>\n      <td>0</td>\n      <td>0</td>\n      <td>STON/O2. 3101282</td>\n      <td>7.9250</td>\n      <td>...</td>\n      <td>S</td>\n      <td>865.0</td>\n      <td>Heikkinen, Miss Laina</td>\n      <td>26.0</td>\n      <td>Jyväskylä, Finland</td>\n      <td>Southampton</td>\n      <td>New York City</td>\n      <td>14?</td>\n      <td>NaN</td>\n      <td>3.0</td>\n    </tr>\n    <tr>\n      <th>3</th>\n      <td>4</td>\n      <td>1.0</td>\n      <td>1</td>\n      <td>Futrelle, Mrs. Jacques Heath (Lily May Peel)</td>\n      <td>female</td>\n      <td>35.0</td>\n      <td>1</td>\n      <td>0</td>\n      <td>113803</td>\n      <td>53.1000</td>\n      <td>...</td>\n      <td>S</td>\n      <td>127.0</td>\n      <td>Futrelle, Mrs. Lily May (née Peel)</td>\n      <td>35.0</td>\n      <td>Scituate, Massachusetts, US</td>\n      <td>Southampton</td>\n      <td>Scituate, Massachusetts, US</td>\n      <td>D</td>\n      <td>NaN</td>\n      <td>1.0</td>\n    </tr>\n    <tr>\n      <th>4</th>\n      <td>5</td>\n      <td>0.0</td>\n      <td>3</td>\n      <td>Allen, Mr. William Henry</td>\n      <td>male</td>\n      <td>35.0</td>\n      <td>0</td>\n      <td>0</td>\n      <td>373450</td>\n      <td>8.0500</td>\n      <td>...</td>\n      <td>S</td>\n      <td>627.0</td>\n      <td>Allen, Mr. William Henry</td>\n      <td>35.0</td>\n      <td>Birmingham, West Midlands, England</td>\n      <td>Southampton</td>\n      <td>New York City</td>\n      <td>NaN</td>\n      <td>NaN</td>\n      <td>3.0</td>\n    </tr>\n  </tbody>\n</table>\n<p>5 rows × 21 columns</p>\n</div>"
     },
     "execution_count": 3,
     "metadata": {},
     "output_type": "execute_result"
    }
   ],
   "source": [
    "# Виведення перших 5 \n",
    "df.head(5)"
   ],
   "metadata": {
    "collapsed": false,
    "ExecuteTime": {
     "end_time": "2024-08-24T17:19:06.355851Z",
     "start_time": "2024-08-24T17:19:06.350975Z"
    }
   },
   "id": "6461ad994934286a"
  },
  {
   "cell_type": "code",
   "execution_count": 4,
   "outputs": [
    {
     "data": {
      "text/plain": "(1309, 21)"
     },
     "execution_count": 4,
     "metadata": {},
     "output_type": "execute_result"
    }
   ],
   "source": [
    "# 2. Визначити розмір датасета.\n",
    "df.shape"
   ],
   "metadata": {
    "collapsed": false,
    "ExecuteTime": {
     "end_time": "2024-08-24T17:19:06.388293Z",
     "start_time": "2024-08-24T17:19:06.353391Z"
    }
   },
   "id": "7bf0ac3f86be2aed"
  },
  {
   "cell_type": "code",
   "execution_count": 5,
   "outputs": [
    {
     "data": {
      "text/plain": "PassengerId      int64\nSurvived       float64\nPclass           int64\nName            object\nSex             object\nAge            float64\nSibSp            int64\nParch            int64\nTicket          object\nFare           float64\nCabin           object\nEmbarked        object\nWikiId         float64\nName_wiki       object\nAge_wiki       float64\nHometown        object\nBoarded         object\nDestination     object\nLifeboat        object\nBody            object\nClass          float64\ndtype: object"
     },
     "execution_count": 5,
     "metadata": {},
     "output_type": "execute_result"
    }
   ],
   "source": [
    "# 3. Визначити тип даних.\n",
    "df.dtypes"
   ],
   "metadata": {
    "collapsed": false,
    "ExecuteTime": {
     "end_time": "2024-08-24T17:19:06.405027Z",
     "start_time": "2024-08-24T17:19:06.359256Z"
    }
   },
   "id": "fb23824a674503e2"
  },
  {
   "cell_type": "code",
   "execution_count": 6,
   "outputs": [
    {
     "data": {
      "text/plain": "PassengerId       0\nSurvived        418\nPclass            0\nName              0\nSex               0\nAge             263\nSibSp             0\nParch             0\nTicket            0\nFare              1\nCabin          1014\nEmbarked          2\nWikiId            5\nName_wiki         5\nAge_wiki          7\nHometown          5\nBoarded           5\nDestination       5\nLifeboat        807\nBody           1179\nClass             5\ndtype: int64"
     },
     "execution_count": 6,
     "metadata": {},
     "output_type": "execute_result"
    }
   ],
   "source": [
    "# 4. Визначити наявність пропущених значень. При наявності, замінити\n",
    "# пропущені значення на середнє значення.\n",
    "df.isnull().sum()"
   ],
   "metadata": {
    "collapsed": false,
    "ExecuteTime": {
     "end_time": "2024-08-24T17:19:06.417626Z",
     "start_time": "2024-08-24T17:19:06.362752Z"
    }
   },
   "id": "697eee25ec16da4e"
  },
  {
   "cell_type": "code",
   "execution_count": 7,
   "outputs": [],
   "source": [
    "# Заміна пропущених значень на середнє значення колонок Age та Fare. А колонку Survived пропущені значення автоматично\n",
    "# отримають значення 2 як зниклі без вістей\n",
    "\n",
    "df.loc[:, \"Age\"] = df[\"Age\"].replace(np.NaN, df.Age.median())\n",
    "df.loc[:, \"Fare\"] = df[\"Fare\"].replace(np.NaN, df.Age.median())"
   ],
   "metadata": {
    "collapsed": false,
    "ExecuteTime": {
     "end_time": "2024-08-24T17:19:06.417757Z",
     "start_time": "2024-08-24T17:19:06.367353Z"
    }
   },
   "id": "86980c1b6a470df0"
  },
  {
   "cell_type": "code",
   "execution_count": 8,
   "outputs": [
    {
     "data": {
      "text/plain": "PassengerId       0\nSurvived        418\nPclass            0\nName              0\nSex               0\nAge               0\nSibSp             0\nParch             0\nTicket            0\nFare              0\nCabin          1014\nEmbarked          2\nWikiId            5\nName_wiki         5\nAge_wiki          7\nHometown          5\nBoarded           5\nDestination       5\nLifeboat        807\nBody           1179\nClass             5\ndtype: int64"
     },
     "execution_count": 8,
     "metadata": {},
     "output_type": "execute_result"
    }
   ],
   "source": [
    "# 5. Ще раз перевірити наявність пропущених значень.\n",
    "df.isnull().sum()"
   ],
   "metadata": {
    "collapsed": false,
    "ExecuteTime": {
     "end_time": "2024-08-24T17:19:06.418449Z",
     "start_time": "2024-08-24T17:19:06.371962Z"
    }
   },
   "id": "cadf39ca66b2d97d"
  },
  {
   "cell_type": "code",
   "execution_count": 9,
   "outputs": [
    {
     "data": {
      "text/plain": "0"
     },
     "execution_count": 9,
     "metadata": {},
     "output_type": "execute_result"
    }
   ],
   "source": [
    "# 6. Перевірити наявність дублікатів. При наявності видалити дублікати.\n",
    "df.duplicated().sum()"
   ],
   "metadata": {
    "collapsed": false,
    "ExecuteTime": {
     "end_time": "2024-08-24T17:19:06.474888Z",
     "start_time": "2024-08-24T17:19:06.453780Z"
    }
   },
   "id": "da37ae73d546e2e2"
  },
  {
   "cell_type": "code",
   "execution_count": 10,
   "outputs": [
    {
     "data": {
      "text/plain": "       PassengerId    Survived       Pclass          Age        SibSp  \\\ncount  1309.000000  891.000000  1309.000000  1309.000000  1309.000000   \nmean    655.000000    0.383838     2.294882    29.503186     0.498854   \nstd     378.020061    0.486592     0.837836    12.905241     1.041658   \nmin       1.000000    0.000000     1.000000     0.170000     0.000000   \n25%     328.000000    0.000000     2.000000    22.000000     0.000000   \n50%     655.000000    0.000000     3.000000    28.000000     0.000000   \n75%     982.000000    1.000000     3.000000    35.000000     1.000000   \nmax    1309.000000    1.000000     3.000000    80.000000     8.000000   \n\n             Parch         Fare       WikiId     Age_wiki        Class  \ncount  1309.000000  1309.000000  1304.000000  1302.000000  1304.000000  \nmean      0.385027    33.291434   658.534509    29.415829     2.291411  \nstd       0.865560    51.739086   380.377373    13.758954     0.840852  \nmin       0.000000     0.000000     1.000000     0.170000     1.000000  \n25%       0.000000     7.895800   326.750000    21.000000     1.750000  \n50%       0.000000    14.454200   661.500000    28.000000     3.000000  \n75%       0.000000    31.275000   987.250000    37.750000     3.000000  \nmax       9.000000   512.329200  1314.000000    74.000000     3.000000  ",
      "text/html": "<div>\n<style scoped>\n    .dataframe tbody tr th:only-of-type {\n        vertical-align: middle;\n    }\n\n    .dataframe tbody tr th {\n        vertical-align: top;\n    }\n\n    .dataframe thead th {\n        text-align: right;\n    }\n</style>\n<table border=\"1\" class=\"dataframe\">\n  <thead>\n    <tr style=\"text-align: right;\">\n      <th></th>\n      <th>PassengerId</th>\n      <th>Survived</th>\n      <th>Pclass</th>\n      <th>Age</th>\n      <th>SibSp</th>\n      <th>Parch</th>\n      <th>Fare</th>\n      <th>WikiId</th>\n      <th>Age_wiki</th>\n      <th>Class</th>\n    </tr>\n  </thead>\n  <tbody>\n    <tr>\n      <th>count</th>\n      <td>1309.000000</td>\n      <td>891.000000</td>\n      <td>1309.000000</td>\n      <td>1309.000000</td>\n      <td>1309.000000</td>\n      <td>1309.000000</td>\n      <td>1309.000000</td>\n      <td>1304.000000</td>\n      <td>1302.000000</td>\n      <td>1304.000000</td>\n    </tr>\n    <tr>\n      <th>mean</th>\n      <td>655.000000</td>\n      <td>0.383838</td>\n      <td>2.294882</td>\n      <td>29.503186</td>\n      <td>0.498854</td>\n      <td>0.385027</td>\n      <td>33.291434</td>\n      <td>658.534509</td>\n      <td>29.415829</td>\n      <td>2.291411</td>\n    </tr>\n    <tr>\n      <th>std</th>\n      <td>378.020061</td>\n      <td>0.486592</td>\n      <td>0.837836</td>\n      <td>12.905241</td>\n      <td>1.041658</td>\n      <td>0.865560</td>\n      <td>51.739086</td>\n      <td>380.377373</td>\n      <td>13.758954</td>\n      <td>0.840852</td>\n    </tr>\n    <tr>\n      <th>min</th>\n      <td>1.000000</td>\n      <td>0.000000</td>\n      <td>1.000000</td>\n      <td>0.170000</td>\n      <td>0.000000</td>\n      <td>0.000000</td>\n      <td>0.000000</td>\n      <td>1.000000</td>\n      <td>0.170000</td>\n      <td>1.000000</td>\n    </tr>\n    <tr>\n      <th>25%</th>\n      <td>328.000000</td>\n      <td>0.000000</td>\n      <td>2.000000</td>\n      <td>22.000000</td>\n      <td>0.000000</td>\n      <td>0.000000</td>\n      <td>7.895800</td>\n      <td>326.750000</td>\n      <td>21.000000</td>\n      <td>1.750000</td>\n    </tr>\n    <tr>\n      <th>50%</th>\n      <td>655.000000</td>\n      <td>0.000000</td>\n      <td>3.000000</td>\n      <td>28.000000</td>\n      <td>0.000000</td>\n      <td>0.000000</td>\n      <td>14.454200</td>\n      <td>661.500000</td>\n      <td>28.000000</td>\n      <td>3.000000</td>\n    </tr>\n    <tr>\n      <th>75%</th>\n      <td>982.000000</td>\n      <td>1.000000</td>\n      <td>3.000000</td>\n      <td>35.000000</td>\n      <td>1.000000</td>\n      <td>0.000000</td>\n      <td>31.275000</td>\n      <td>987.250000</td>\n      <td>37.750000</td>\n      <td>3.000000</td>\n    </tr>\n    <tr>\n      <th>max</th>\n      <td>1309.000000</td>\n      <td>1.000000</td>\n      <td>3.000000</td>\n      <td>80.000000</td>\n      <td>8.000000</td>\n      <td>9.000000</td>\n      <td>512.329200</td>\n      <td>1314.000000</td>\n      <td>74.000000</td>\n      <td>3.000000</td>\n    </tr>\n  </tbody>\n</table>\n</div>"
     },
     "execution_count": 10,
     "metadata": {},
     "output_type": "execute_result"
    }
   ],
   "source": [
    "# 7. Вивести описову статистику датасету describe()\n",
    "df.describe()"
   ],
   "metadata": {
    "collapsed": false,
    "ExecuteTime": {
     "end_time": "2024-08-24T17:19:07.812725Z",
     "start_time": "2024-08-24T17:19:07.781850Z"
    }
   },
   "id": "a2a1f84eb53c4662"
  },
  {
   "cell_type": "code",
   "execution_count": 11,
   "outputs": [
    {
     "data": {
      "text/plain": "      PassengerId  Survived  Pclass  \\\n0               1       0.0       3   \n1               2       1.0       1   \n2               3       1.0       3   \n3               4       1.0       1   \n4               5       0.0       3   \n...           ...       ...     ...   \n1304         1305       NaN       3   \n1305         1306       NaN       1   \n1306         1307       NaN       3   \n1307         1308       NaN       3   \n1308         1309       NaN       3   \n\n                                                   Name     Sex   Age  SibSp  \\\n0                               Braund, Mr. Owen Harris    male  22.0      1   \n1     Cumings, Mrs. John Bradley (Florence Briggs Th...  female  38.0      1   \n2                                Heikkinen, Miss. Laina  female  26.0      0   \n3          Futrelle, Mrs. Jacques Heath (Lily May Peel)  female  35.0      1   \n4                              Allen, Mr. William Henry    male  35.0      0   \n...                                                 ...     ...   ...    ...   \n1304                                 Spector, Mr. Woolf    male  28.0      0   \n1305                       Oliva y Ocana, Dona. Fermina  female  39.0      0   \n1306                       Saether, Mr. Simon Sivertsen    male  38.5      0   \n1307                                Ware, Mr. Frederick    male  28.0      0   \n1308                           Peter, Master. Michael J    male  28.0      1   \n\n      Parch              Ticket      Fare Embarked  WikiId  \\\n0         0           A/5 21171    7.2500        S   691.0   \n1         0            PC 17599   71.2833        C    90.0   \n2         0    STON/O2. 3101282    7.9250        S   865.0   \n3         0              113803   53.1000        S   127.0   \n4         0              373450    8.0500        S   627.0   \n...     ...                 ...       ...      ...     ...   \n1304      0           A.5. 3236    8.0500        S  1227.0   \n1305      0            PC 17758  108.9000        C   229.0   \n1306      0  SOTON/O.Q. 3101262    7.2500        S  1169.0   \n1307      0              359309    8.0500        S  1289.0   \n1308      1                2668   22.3583        C   702.0   \n\n                                       Name_wiki  Age_wiki  \\\n0                        Braund, Mr. Owen Harris      22.0   \n1     Cumings, Mrs. Florence Briggs (née Thayer)      35.0   \n2                          Heikkinen, Miss Laina      26.0   \n3             Futrelle, Mrs. Lily May (née Peel)      35.0   \n4                       Allen, Mr. William Henry      35.0   \n...                                          ...       ...   \n1304                          Spector, Mr. Woolf      23.0   \n1305        and maid, Doña Fermina Oliva y Ocana      39.0   \n1306                 Sæther, Mr. Simon Sivertsen      43.0   \n1307                 Ware, Mr. Frederick William      34.0   \n1308             Butrus-Youssef, Master Makhkhul       4.0   \n\n                                Hometown      Boarded  \\\n0             Bridgerule, Devon, England  Southampton   \n1                 New York, New York, US    Cherbourg   \n2                     Jyväskylä, Finland  Southampton   \n3            Scituate, Massachusetts, US  Southampton   \n4     Birmingham, West Midlands, England  Southampton   \n...                                  ...          ...   \n1304                     London, England  Southampton   \n1305                       Madrid, Spain    Cherbourg   \n1306        Skaun, Sør-Trøndelag, Norway  Southampton   \n1307          Greenwich, London, England  Southampton   \n1308                   Sar'al[81], Syria    Cherbourg   \n\n                                  Destination Lifeboat  Body  Class  \n0     Qu'Appelle Valley, Saskatchewan, Canada      NaN   NaN    3.0  \n1                      New York, New York, US        4   NaN    1.0  \n2                               New York City      14?   NaN    3.0  \n3                 Scituate, Massachusetts, US        D   NaN    1.0  \n4                               New York City      NaN   NaN    3.0  \n...                                       ...      ...   ...    ...  \n1304                            New York City      NaN   NaN    3.0  \n1305                   New York, New York, US        8   NaN    1.0  \n1306                                       US      NaN  32MB    3.0  \n1307                            New York City      NaN   NaN    3.0  \n1308                    Detroit, Michigan, US        D   NaN    3.0  \n\n[1309 rows x 20 columns]",
      "text/html": "<div>\n<style scoped>\n    .dataframe tbody tr th:only-of-type {\n        vertical-align: middle;\n    }\n\n    .dataframe tbody tr th {\n        vertical-align: top;\n    }\n\n    .dataframe thead th {\n        text-align: right;\n    }\n</style>\n<table border=\"1\" class=\"dataframe\">\n  <thead>\n    <tr style=\"text-align: right;\">\n      <th></th>\n      <th>PassengerId</th>\n      <th>Survived</th>\n      <th>Pclass</th>\n      <th>Name</th>\n      <th>Sex</th>\n      <th>Age</th>\n      <th>SibSp</th>\n      <th>Parch</th>\n      <th>Ticket</th>\n      <th>Fare</th>\n      <th>Embarked</th>\n      <th>WikiId</th>\n      <th>Name_wiki</th>\n      <th>Age_wiki</th>\n      <th>Hometown</th>\n      <th>Boarded</th>\n      <th>Destination</th>\n      <th>Lifeboat</th>\n      <th>Body</th>\n      <th>Class</th>\n    </tr>\n  </thead>\n  <tbody>\n    <tr>\n      <th>0</th>\n      <td>1</td>\n      <td>0.0</td>\n      <td>3</td>\n      <td>Braund, Mr. Owen Harris</td>\n      <td>male</td>\n      <td>22.0</td>\n      <td>1</td>\n      <td>0</td>\n      <td>A/5 21171</td>\n      <td>7.2500</td>\n      <td>S</td>\n      <td>691.0</td>\n      <td>Braund, Mr. Owen Harris</td>\n      <td>22.0</td>\n      <td>Bridgerule, Devon, England</td>\n      <td>Southampton</td>\n      <td>Qu'Appelle Valley, Saskatchewan, Canada</td>\n      <td>NaN</td>\n      <td>NaN</td>\n      <td>3.0</td>\n    </tr>\n    <tr>\n      <th>1</th>\n      <td>2</td>\n      <td>1.0</td>\n      <td>1</td>\n      <td>Cumings, Mrs. John Bradley (Florence Briggs Th...</td>\n      <td>female</td>\n      <td>38.0</td>\n      <td>1</td>\n      <td>0</td>\n      <td>PC 17599</td>\n      <td>71.2833</td>\n      <td>C</td>\n      <td>90.0</td>\n      <td>Cumings, Mrs. Florence Briggs (née Thayer)</td>\n      <td>35.0</td>\n      <td>New York, New York, US</td>\n      <td>Cherbourg</td>\n      <td>New York, New York, US</td>\n      <td>4</td>\n      <td>NaN</td>\n      <td>1.0</td>\n    </tr>\n    <tr>\n      <th>2</th>\n      <td>3</td>\n      <td>1.0</td>\n      <td>3</td>\n      <td>Heikkinen, Miss. Laina</td>\n      <td>female</td>\n      <td>26.0</td>\n      <td>0</td>\n      <td>0</td>\n      <td>STON/O2. 3101282</td>\n      <td>7.9250</td>\n      <td>S</td>\n      <td>865.0</td>\n      <td>Heikkinen, Miss Laina</td>\n      <td>26.0</td>\n      <td>Jyväskylä, Finland</td>\n      <td>Southampton</td>\n      <td>New York City</td>\n      <td>14?</td>\n      <td>NaN</td>\n      <td>3.0</td>\n    </tr>\n    <tr>\n      <th>3</th>\n      <td>4</td>\n      <td>1.0</td>\n      <td>1</td>\n      <td>Futrelle, Mrs. Jacques Heath (Lily May Peel)</td>\n      <td>female</td>\n      <td>35.0</td>\n      <td>1</td>\n      <td>0</td>\n      <td>113803</td>\n      <td>53.1000</td>\n      <td>S</td>\n      <td>127.0</td>\n      <td>Futrelle, Mrs. Lily May (née Peel)</td>\n      <td>35.0</td>\n      <td>Scituate, Massachusetts, US</td>\n      <td>Southampton</td>\n      <td>Scituate, Massachusetts, US</td>\n      <td>D</td>\n      <td>NaN</td>\n      <td>1.0</td>\n    </tr>\n    <tr>\n      <th>4</th>\n      <td>5</td>\n      <td>0.0</td>\n      <td>3</td>\n      <td>Allen, Mr. William Henry</td>\n      <td>male</td>\n      <td>35.0</td>\n      <td>0</td>\n      <td>0</td>\n      <td>373450</td>\n      <td>8.0500</td>\n      <td>S</td>\n      <td>627.0</td>\n      <td>Allen, Mr. William Henry</td>\n      <td>35.0</td>\n      <td>Birmingham, West Midlands, England</td>\n      <td>Southampton</td>\n      <td>New York City</td>\n      <td>NaN</td>\n      <td>NaN</td>\n      <td>3.0</td>\n    </tr>\n    <tr>\n      <th>...</th>\n      <td>...</td>\n      <td>...</td>\n      <td>...</td>\n      <td>...</td>\n      <td>...</td>\n      <td>...</td>\n      <td>...</td>\n      <td>...</td>\n      <td>...</td>\n      <td>...</td>\n      <td>...</td>\n      <td>...</td>\n      <td>...</td>\n      <td>...</td>\n      <td>...</td>\n      <td>...</td>\n      <td>...</td>\n      <td>...</td>\n      <td>...</td>\n      <td>...</td>\n    </tr>\n    <tr>\n      <th>1304</th>\n      <td>1305</td>\n      <td>NaN</td>\n      <td>3</td>\n      <td>Spector, Mr. Woolf</td>\n      <td>male</td>\n      <td>28.0</td>\n      <td>0</td>\n      <td>0</td>\n      <td>A.5. 3236</td>\n      <td>8.0500</td>\n      <td>S</td>\n      <td>1227.0</td>\n      <td>Spector, Mr. Woolf</td>\n      <td>23.0</td>\n      <td>London, England</td>\n      <td>Southampton</td>\n      <td>New York City</td>\n      <td>NaN</td>\n      <td>NaN</td>\n      <td>3.0</td>\n    </tr>\n    <tr>\n      <th>1305</th>\n      <td>1306</td>\n      <td>NaN</td>\n      <td>1</td>\n      <td>Oliva y Ocana, Dona. Fermina</td>\n      <td>female</td>\n      <td>39.0</td>\n      <td>0</td>\n      <td>0</td>\n      <td>PC 17758</td>\n      <td>108.9000</td>\n      <td>C</td>\n      <td>229.0</td>\n      <td>and maid, Doña Fermina Oliva y Ocana</td>\n      <td>39.0</td>\n      <td>Madrid, Spain</td>\n      <td>Cherbourg</td>\n      <td>New York, New York, US</td>\n      <td>8</td>\n      <td>NaN</td>\n      <td>1.0</td>\n    </tr>\n    <tr>\n      <th>1306</th>\n      <td>1307</td>\n      <td>NaN</td>\n      <td>3</td>\n      <td>Saether, Mr. Simon Sivertsen</td>\n      <td>male</td>\n      <td>38.5</td>\n      <td>0</td>\n      <td>0</td>\n      <td>SOTON/O.Q. 3101262</td>\n      <td>7.2500</td>\n      <td>S</td>\n      <td>1169.0</td>\n      <td>Sæther, Mr. Simon Sivertsen</td>\n      <td>43.0</td>\n      <td>Skaun, Sør-Trøndelag, Norway</td>\n      <td>Southampton</td>\n      <td>US</td>\n      <td>NaN</td>\n      <td>32MB</td>\n      <td>3.0</td>\n    </tr>\n    <tr>\n      <th>1307</th>\n      <td>1308</td>\n      <td>NaN</td>\n      <td>3</td>\n      <td>Ware, Mr. Frederick</td>\n      <td>male</td>\n      <td>28.0</td>\n      <td>0</td>\n      <td>0</td>\n      <td>359309</td>\n      <td>8.0500</td>\n      <td>S</td>\n      <td>1289.0</td>\n      <td>Ware, Mr. Frederick William</td>\n      <td>34.0</td>\n      <td>Greenwich, London, England</td>\n      <td>Southampton</td>\n      <td>New York City</td>\n      <td>NaN</td>\n      <td>NaN</td>\n      <td>3.0</td>\n    </tr>\n    <tr>\n      <th>1308</th>\n      <td>1309</td>\n      <td>NaN</td>\n      <td>3</td>\n      <td>Peter, Master. Michael J</td>\n      <td>male</td>\n      <td>28.0</td>\n      <td>1</td>\n      <td>1</td>\n      <td>2668</td>\n      <td>22.3583</td>\n      <td>C</td>\n      <td>702.0</td>\n      <td>Butrus-Youssef, Master Makhkhul</td>\n      <td>4.0</td>\n      <td>Sar'al[81], Syria</td>\n      <td>Cherbourg</td>\n      <td>Detroit, Michigan, US</td>\n      <td>D</td>\n      <td>NaN</td>\n      <td>3.0</td>\n    </tr>\n  </tbody>\n</table>\n<p>1309 rows × 20 columns</p>\n</div>"
     },
     "execution_count": 11,
     "metadata": {},
     "output_type": "execute_result"
    }
   ],
   "source": [
    "# 8. Видалити стовпчик Cabin\n",
    "df.drop(columns = \"Cabin\", inplace = True)\n",
    "df"
   ],
   "metadata": {
    "collapsed": false,
    "ExecuteTime": {
     "end_time": "2024-08-24T17:19:08.506207Z",
     "start_time": "2024-08-24T17:19:08.502239Z"
    }
   },
   "id": "f2df157383f81435"
  },
  {
   "cell_type": "code",
   "execution_count": 12,
   "outputs": [
    {
     "data": {
      "text/plain": "      Survived  Pclass     Sex   Age      Fare\n0          0.0       3    male  22.0    7.2500\n1          1.0       1  female  38.0   71.2833\n2          1.0       3  female  26.0    7.9250\n3          1.0       1  female  35.0   53.1000\n4          0.0       3    male  35.0    8.0500\n...        ...     ...     ...   ...       ...\n1304       NaN       3    male  28.0    8.0500\n1305       NaN       1  female  39.0  108.9000\n1306       NaN       3    male  38.5    7.2500\n1307       NaN       3    male  28.0    8.0500\n1308       NaN       3    male  28.0   22.3583\n\n[1309 rows x 5 columns]",
      "text/html": "<div>\n<style scoped>\n    .dataframe tbody tr th:only-of-type {\n        vertical-align: middle;\n    }\n\n    .dataframe tbody tr th {\n        vertical-align: top;\n    }\n\n    .dataframe thead th {\n        text-align: right;\n    }\n</style>\n<table border=\"1\" class=\"dataframe\">\n  <thead>\n    <tr style=\"text-align: right;\">\n      <th></th>\n      <th>Survived</th>\n      <th>Pclass</th>\n      <th>Sex</th>\n      <th>Age</th>\n      <th>Fare</th>\n    </tr>\n  </thead>\n  <tbody>\n    <tr>\n      <th>0</th>\n      <td>0.0</td>\n      <td>3</td>\n      <td>male</td>\n      <td>22.0</td>\n      <td>7.2500</td>\n    </tr>\n    <tr>\n      <th>1</th>\n      <td>1.0</td>\n      <td>1</td>\n      <td>female</td>\n      <td>38.0</td>\n      <td>71.2833</td>\n    </tr>\n    <tr>\n      <th>2</th>\n      <td>1.0</td>\n      <td>3</td>\n      <td>female</td>\n      <td>26.0</td>\n      <td>7.9250</td>\n    </tr>\n    <tr>\n      <th>3</th>\n      <td>1.0</td>\n      <td>1</td>\n      <td>female</td>\n      <td>35.0</td>\n      <td>53.1000</td>\n    </tr>\n    <tr>\n      <th>4</th>\n      <td>0.0</td>\n      <td>3</td>\n      <td>male</td>\n      <td>35.0</td>\n      <td>8.0500</td>\n    </tr>\n    <tr>\n      <th>...</th>\n      <td>...</td>\n      <td>...</td>\n      <td>...</td>\n      <td>...</td>\n      <td>...</td>\n    </tr>\n    <tr>\n      <th>1304</th>\n      <td>NaN</td>\n      <td>3</td>\n      <td>male</td>\n      <td>28.0</td>\n      <td>8.0500</td>\n    </tr>\n    <tr>\n      <th>1305</th>\n      <td>NaN</td>\n      <td>1</td>\n      <td>female</td>\n      <td>39.0</td>\n      <td>108.9000</td>\n    </tr>\n    <tr>\n      <th>1306</th>\n      <td>NaN</td>\n      <td>3</td>\n      <td>male</td>\n      <td>38.5</td>\n      <td>7.2500</td>\n    </tr>\n    <tr>\n      <th>1307</th>\n      <td>NaN</td>\n      <td>3</td>\n      <td>male</td>\n      <td>28.0</td>\n      <td>8.0500</td>\n    </tr>\n    <tr>\n      <th>1308</th>\n      <td>NaN</td>\n      <td>3</td>\n      <td>male</td>\n      <td>28.0</td>\n      <td>22.3583</td>\n    </tr>\n  </tbody>\n</table>\n<p>1309 rows × 5 columns</p>\n</div>"
     },
     "execution_count": 12,
     "metadata": {},
     "output_type": "execute_result"
    }
   ],
   "source": [
    "# 9. Сформувати датасет з обраними стовпцями:\n",
    "# ['Survived', 'Pclass', 'Sex', 'Age', 'Fare']]\n",
    "dfx = df[['Survived', 'Pclass', 'Sex', 'Age', 'Fare']]\n",
    "dfx"
   ],
   "metadata": {
    "collapsed": false,
    "ExecuteTime": {
     "end_time": "2024-08-24T17:19:09.045944Z",
     "start_time": "2024-08-24T17:19:09.042573Z"
    }
   },
   "id": "a8f45f556388d9c4"
  },
  {
   "cell_type": "code",
   "execution_count": 13,
   "outputs": [
    {
     "data": {
      "text/plain": "      Survived  Pclass Sex   Age      Fare\n0          0.0       3   0  22.0    7.2500\n1          1.0       1   1  38.0   71.2833\n2          1.0       3   1  26.0    7.9250\n3          1.0       1   1  35.0   53.1000\n4          0.0       3   0  35.0    8.0500\n...        ...     ...  ..   ...       ...\n1304       NaN       3   0  28.0    8.0500\n1305       NaN       1   1  39.0  108.9000\n1306       NaN       3   0  38.5    7.2500\n1307       NaN       3   0  28.0    8.0500\n1308       NaN       3   0  28.0   22.3583\n\n[1309 rows x 5 columns]",
      "text/html": "<div>\n<style scoped>\n    .dataframe tbody tr th:only-of-type {\n        vertical-align: middle;\n    }\n\n    .dataframe tbody tr th {\n        vertical-align: top;\n    }\n\n    .dataframe thead th {\n        text-align: right;\n    }\n</style>\n<table border=\"1\" class=\"dataframe\">\n  <thead>\n    <tr style=\"text-align: right;\">\n      <th></th>\n      <th>Survived</th>\n      <th>Pclass</th>\n      <th>Sex</th>\n      <th>Age</th>\n      <th>Fare</th>\n    </tr>\n  </thead>\n  <tbody>\n    <tr>\n      <th>0</th>\n      <td>0.0</td>\n      <td>3</td>\n      <td>0</td>\n      <td>22.0</td>\n      <td>7.2500</td>\n    </tr>\n    <tr>\n      <th>1</th>\n      <td>1.0</td>\n      <td>1</td>\n      <td>1</td>\n      <td>38.0</td>\n      <td>71.2833</td>\n    </tr>\n    <tr>\n      <th>2</th>\n      <td>1.0</td>\n      <td>3</td>\n      <td>1</td>\n      <td>26.0</td>\n      <td>7.9250</td>\n    </tr>\n    <tr>\n      <th>3</th>\n      <td>1.0</td>\n      <td>1</td>\n      <td>1</td>\n      <td>35.0</td>\n      <td>53.1000</td>\n    </tr>\n    <tr>\n      <th>4</th>\n      <td>0.0</td>\n      <td>3</td>\n      <td>0</td>\n      <td>35.0</td>\n      <td>8.0500</td>\n    </tr>\n    <tr>\n      <th>...</th>\n      <td>...</td>\n      <td>...</td>\n      <td>...</td>\n      <td>...</td>\n      <td>...</td>\n    </tr>\n    <tr>\n      <th>1304</th>\n      <td>NaN</td>\n      <td>3</td>\n      <td>0</td>\n      <td>28.0</td>\n      <td>8.0500</td>\n    </tr>\n    <tr>\n      <th>1305</th>\n      <td>NaN</td>\n      <td>1</td>\n      <td>1</td>\n      <td>39.0</td>\n      <td>108.9000</td>\n    </tr>\n    <tr>\n      <th>1306</th>\n      <td>NaN</td>\n      <td>3</td>\n      <td>0</td>\n      <td>38.5</td>\n      <td>7.2500</td>\n    </tr>\n    <tr>\n      <th>1307</th>\n      <td>NaN</td>\n      <td>3</td>\n      <td>0</td>\n      <td>28.0</td>\n      <td>8.0500</td>\n    </tr>\n    <tr>\n      <th>1308</th>\n      <td>NaN</td>\n      <td>3</td>\n      <td>0</td>\n      <td>28.0</td>\n      <td>22.3583</td>\n    </tr>\n  </tbody>\n</table>\n<p>1309 rows × 5 columns</p>\n</div>"
     },
     "execution_count": 13,
     "metadata": {},
     "output_type": "execute_result"
    }
   ],
   "source": [
    "# 10. Замінити бінарні ознаки (Стать) на 0 і 1 (але перевірте унікальні\n",
    "# значення даного стовпчика).\n",
    "unique_values = pd.unique(dfx['Sex'])\n",
    "dfx.loc[:, 'Sex'] = dfx['Sex'].replace({\"male\": 0, \"female\": 1})\n",
    "dfx"
   ],
   "metadata": {
    "collapsed": false,
    "ExecuteTime": {
     "end_time": "2024-08-24T17:19:09.738877Z",
     "start_time": "2024-08-24T17:19:09.733727Z"
    }
   },
   "id": "de81f5588ea5236c"
  },
  {
   "cell_type": "code",
   "execution_count": 14,
   "outputs": [
    {
     "data": {
      "text/plain": "Survived    418\nPclass        0\nSex           0\nAge           0\nFare          0\ndtype: int64"
     },
     "execution_count": 14,
     "metadata": {},
     "output_type": "execute_result"
    }
   ],
   "source": [
    "# 11. Ще раз перевірити кількість пропущених даних (впевнитись, що їх немає).\n",
    "# Перевірка на порожні значення\n",
    "dfx.isnull().sum()"
   ],
   "metadata": {
    "collapsed": false,
    "ExecuteTime": {
     "end_time": "2024-08-24T17:19:10.414232Z",
     "start_time": "2024-08-24T17:19:10.395054Z"
    }
   },
   "id": "3e3f8c3c2ffc7a62"
  },
  {
   "cell_type": "code",
   "execution_count": 15,
   "outputs": [],
   "source": [
    "# Видалення наявних порожніх значень\n",
    "dfx = dfx.copy()\n",
    "dfx.dropna(inplace=True)"
   ],
   "metadata": {
    "collapsed": false,
    "ExecuteTime": {
     "end_time": "2024-08-24T17:19:11.028329Z",
     "start_time": "2024-08-24T17:19:11.025504Z"
    }
   },
   "id": "958268be8b8f7a6b"
  },
  {
   "cell_type": "code",
   "execution_count": 16,
   "outputs": [
    {
     "data": {
      "text/plain": "Survived    0\nPclass      0\nSex         0\nAge         0\nFare        0\ndtype: int64"
     },
     "execution_count": 16,
     "metadata": {},
     "output_type": "execute_result"
    }
   ],
   "source": [
    "# Повторна перевірка на наявність пустих значень\n",
    "dfx.isnull().sum()"
   ],
   "metadata": {
    "collapsed": false,
    "ExecuteTime": {
     "end_time": "2024-08-24T17:19:11.822670Z",
     "start_time": "2024-08-24T17:19:11.816970Z"
    }
   },
   "id": "7a2c67b94bdb0301"
  },
  {
   "cell_type": "code",
   "execution_count": 17,
   "outputs": [],
   "source": [
    "# Поділ даних та створення тестів заразом з тренувальними\n",
    "X, y = dfx[[\"Pclass\", \"Sex\", \"Age\", \"Fare\"]], dfx[[\"Survived\"]]\n",
    "X_train, X_test, y_train, y_test = train_test_split(X, y, test_size=0.3, random_state=42)\n",
    "\n",
    "# Масштабування даних\n",
    "scaler = StandardScaler()\n",
    "X_train = scaler.fit_transform(X_train)\n",
    "X_test = scaler.transform(X_test)"
   ],
   "metadata": {
    "collapsed": false,
    "ExecuteTime": {
     "end_time": "2024-08-24T17:19:15.011007Z",
     "start_time": "2024-08-24T17:19:15.007306Z"
    }
   },
   "id": "1f623057d746e72e"
  },
  {
   "cell_type": "code",
   "execution_count": 18,
   "outputs": [],
   "source": [
    "# 3 моделі, котрі будуть використані\n",
    "models = {\n",
    "    'Logistic Regression': LogisticRegression(max_iter=1000),\n",
    "    'Decision Tree': DecisionTreeClassifier(),\n",
    "    'Random Forest': RandomForestClassifier()\n",
    "}\n",
    "\n",
    "# Параметри моделей\n",
    "param_grids = {\n",
    "    'Logistic Regression': {\n",
    "        'C': [0.1, 1, 10, 100],\n",
    "        'penalty': ['l2']\n",
    "    },\n",
    "    'Decision Tree': {\n",
    "        'max_depth': [None, 10, 20, 30],\n",
    "        'min_samples_leaf': [1, 3, 5]\n",
    "    },\n",
    "    'Random Forest': {\n",
    "        'n_estimators': [50, 100, 200],\n",
    "        'max_depth': [None, 10, 20, 30]\n",
    "    }\n",
    "}"
   ],
   "metadata": {
    "collapsed": false,
    "ExecuteTime": {
     "end_time": "2024-08-24T17:19:16.347772Z",
     "start_time": "2024-08-24T17:19:16.334987Z"
    }
   },
   "id": "8d3101dfe87fced4"
  },
  {
   "cell_type": "code",
   "execution_count": 32,
   "outputs": [
    {
     "name": "stdout",
     "output_type": "stream",
     "text": [
      "\n",
      "Тренування моделі Logistic Regression завершено. Найкращі параметри: {'C': 0.1, 'penalty': 'l2'}\n",
      "\n",
      "Тренування моделі Decision Tree завершено. Найкращі параметри: {'max_depth': 10, 'min_samples_leaf': 1}\n",
      "\n",
      "Тренування моделі Random Forest завершено. Найкращі параметри: {'max_depth': 10, 'n_estimators': 200}\n",
      "\n",
      "Найкращі параметри для кожної моделі:\n",
      "Logistic Regression : {'C': 0.1, 'penalty': 'l2'}\n",
      "Decision Tree : {'max_depth': 10, 'min_samples_leaf': 1}\n",
      "Random Forest : {'max_depth': 10, 'n_estimators': 200}\n"
     ]
    }
   ],
   "source": [
    "# Функція для підбору гіперпараметрів і навчання моделі\n",
    "def tune_and_train_model(model, param_grid):\n",
    "    grid_search = GridSearchCV(model, param_grid, cv=5, scoring='accuracy', n_jobs=-1)\n",
    "    grid_search.fit(X_train, y_train.ravel())  # .ravel() для перетворення y на одномірний масив\n",
    "    return grid_search.best_estimator_, grid_search.best_params_\n",
    "\n",
    "# Навчання і підбір гіперпараметрів для кожної моделі\n",
    "best_models = {}\n",
    "best_params = {}\n",
    "\n",
    "for model_name, model in models.items():\n",
    "    best_models[model_name], best_params[model_name] = tune_and_train_model(model, param_grids[model_name])\n",
    "    print(f\"\\nТренування моделі {model_name} завершено. Найкращі параметри: {best_params[model_name]}\")\n",
    "\n",
    "# Виведення найкращих параметрів для кожної моделі\n",
    "print(\"\\nНайкращі параметри для кожної моделі:\")\n",
    "for model_name, params in best_params.items():\n",
    "    print(model_name,\":\", params)"
   ],
   "metadata": {
    "collapsed": false,
    "ExecuteTime": {
     "end_time": "2024-08-24T17:29:59.525939Z",
     "start_time": "2024-08-24T17:29:56.973176Z"
    }
   },
   "id": "757a687e11089ecd"
  },
  {
   "cell_type": "code",
   "execution_count": 26,
   "outputs": [
    {
     "name": "stdout",
     "output_type": "stream",
     "text": [
      "Logistic Regression confusion matrix:\n",
      "[[135  22]\n",
      " [ 32  79]]\n",
      "Logistic Regression Accuracy: 0.7985074626865671\n",
      "Decision Tree confusion matrix:\n",
      "[[130  27]\n",
      " [ 29  82]]\n",
      "Decision Tree Accuracy: 0.7910447761194029\n",
      "Random Forest confusion matrix:\n",
      "[[136  21]\n",
      " [ 34  77]]\n",
      "Random Forest Accuracy: 0.7947761194029851\n"
     ]
    }
   ],
   "source": [
    "# Обчислення матриці помилок та обчислення точності\n",
    "models = {\n",
    "    'Logistic Regression': LogisticRegression(C=1, max_iter=1000),\n",
    "    'Decision Tree': DecisionTreeClassifier(min_samples_leaf=3),\n",
    "    'Random Forest': RandomForestClassifier(max_depth=20, n_estimators=50)\n",
    "}\n",
    "\n",
    "accuracy_results = {}\n",
    "\n",
    "for model_name, model in models.items():\n",
    "    model.fit(X_train, y_train)\n",
    "    y_pred = model.predict(X_test)\n",
    "    \n",
    "    # Обчислення матриці помилок\n",
    "    conf_matrix = confusion_matrix(y_test, y_pred)\n",
    "    print(model_name, \"confusion matrix:\\n\", conf_matrix)\n",
    "    \n",
    "    # Обчислення точності\n",
    "    accuracy = accuracy_score(y_test, y_pred)\n",
    "    accuracy_results[model_name] = accuracy\n",
    "    print(model_name, \"Accuracy:\\n\", accuracy)\n"
   ],
   "metadata": {
    "collapsed": false,
    "ExecuteTime": {
     "end_time": "2024-08-24T17:24:21.664656Z",
     "start_time": "2024-08-24T17:24:21.591305Z"
    }
   },
   "id": "e66177fed15ab053"
  },
  {
   "cell_type": "code",
   "execution_count": 29,
   "outputs": [
    {
     "name": "stdout",
     "output_type": "stream",
     "text": [
      "Best model: Logistic Regression with Accuracy: 0.7985074626865671\n"
     ]
    }
   ],
   "source": [
    "# Знаходження найкращої моделі\n",
    "best_model_name = max(accuracy_results, key=accuracy_results.get)\n",
    "best_accuracy = accuracy_results[best_model_name]\n",
    "print(\"Best model:\", best_model_name, \"with Accuracy:\", best_accuracy)"
   ],
   "metadata": {
    "collapsed": false,
    "ExecuteTime": {
     "end_time": "2024-08-24T17:27:28.768641Z",
     "start_time": "2024-08-24T17:27:28.761622Z"
    }
   },
   "id": "e204b282fc309a8b"
  },
  {
   "cell_type": "code",
   "execution_count": 28,
   "outputs": [
    {
     "name": "stdout",
     "output_type": "stream",
     "text": [
      "Model: Logistic Regression\n",
      "{'Sample Index': array([102,  65, 219,  89,  24,  53, 181,  21, 105, 186]), 'Real Class':      Survived\n",
      "291       1.0\n",
      "772       0.0\n",
      "425       0.0\n",
      "250       0.0\n",
      "538       0.0\n",
      "802       1.0\n",
      "382       0.0\n",
      "447       1.0\n",
      "442       0.0\n",
      "361       0.0, 'Predicted Class': array([1., 1., 0., 0., 0., 1., 0., 0., 0., 0.])}\n",
      "Model: Decision Tree\n",
      "{'Sample Index': array([102,  65, 219,  89,  24,  53, 181,  21, 105, 186]), 'Real Class':      Survived\n",
      "291       1.0\n",
      "772       0.0\n",
      "425       0.0\n",
      "250       0.0\n",
      "538       0.0\n",
      "802       1.0\n",
      "382       0.0\n",
      "447       1.0\n",
      "442       0.0\n",
      "361       0.0, 'Predicted Class': array([1., 1., 0., 0., 0., 0., 1., 0., 1., 0.])}\n",
      "Model: Random Forest\n",
      "{'Sample Index': array([102,  65, 219,  89,  24,  53, 181,  21, 105, 186]), 'Real Class':      Survived\n",
      "291       1.0\n",
      "772       0.0\n",
      "425       0.0\n",
      "250       0.0\n",
      "538       0.0\n",
      "802       1.0\n",
      "382       0.0\n",
      "447       1.0\n",
      "442       0.0\n",
      "361       0.0, 'Predicted Class': array([1., 1., 0., 0., 0., 1., 1., 0., 1., 0.])}\n"
     ]
    }
   ],
   "source": [
    "# Вибір 10 випадкових зразків з тестової вибірки\n",
    "np.random.seed(49)  # Для відтворюваності\n",
    "random_indices = np.random.choice(X_test.shape[0], 10, replace=False)\n",
    "X_random = X_test[random_indices]\n",
    "y_random_actual = y_test.iloc[random_indices]\n",
    "\n",
    "# Прогнозування класів для цих зразків\n",
    "for model_name, model in models.items():\n",
    "    print(\"Model:\", model_name)\n",
    "    y_random_pred = model.predict(X_random)\n",
    "    # Створення DataFrame для відображення результатів з назвами зразків\n",
    "    comparison_df = {\n",
    "    'Sample Index': random_indices,  # Індекси вибраних зразків\n",
    "    'Real Class': y_random_actual,\n",
    "    'Predicted Class': y_random_pred\n",
    "    }\n",
    "    # Виведення результатів\n",
    "    print(comparison_df)"
   ],
   "metadata": {
    "collapsed": false,
    "ExecuteTime": {
     "end_time": "2024-08-24T17:24:30.496244Z",
     "start_time": "2024-08-24T17:24:30.475662Z"
    }
   },
   "id": "f0be39a3993bce18"
  },
  {
   "cell_type": "raw",
   "source": [
    "Висновок: На даній частині лабораторній роботі було досліджено 3 класифікатора для визначення оптимальних параметрів моделі.\n",
    "Було взято як вказано в завданні датасет з лабораторної роботи №2. Як стало зрозуміло з обрахунків, що найкращою моделлю для\n",
    "обрахунку точності є лінійна регресія. Було зроблено прогнозування класів за вибором 10 випадкових зразків з тестової \n",
    "вибірки."
   ],
   "metadata": {
    "collapsed": false
   },
   "id": "36efb6efef004864"
  }
 ],
 "metadata": {
  "kernelspec": {
   "display_name": "Python 3",
   "language": "python",
   "name": "python3"
  },
  "language_info": {
   "codemirror_mode": {
    "name": "ipython",
    "version": 2
   },
   "file_extension": ".py",
   "mimetype": "text/x-python",
   "name": "python",
   "nbconvert_exporter": "python",
   "pygments_lexer": "ipython2",
   "version": "2.7.6"
  }
 },
 "nbformat": 4,
 "nbformat_minor": 5
}
