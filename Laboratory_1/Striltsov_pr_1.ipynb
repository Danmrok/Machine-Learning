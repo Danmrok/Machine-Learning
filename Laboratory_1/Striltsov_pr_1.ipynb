{
 "cells": [
  {
   "cell_type": "raw",
   "source": [
    "Лабораторна робота 1.\n",
    "Вступ до машинного навчання. Елементи лінійної алгебри."
   ],
   "metadata": {
    "collapsed": false
   },
   "id": "2b2bd8f3f4542631"
  },
  {
   "cell_type": "raw",
   "source": [
    "Номер варіанту в Мія №21"
   ],
   "metadata": {
    "collapsed": false
   },
   "id": "6777f31d03e201f0"
  },
  {
   "cell_type": "code",
   "execution_count": 2,
   "outputs": [],
   "source": [
    "import numpy as np"
   ],
   "metadata": {
    "collapsed": false,
    "ExecuteTime": {
     "end_time": "2024-08-09T09:34:09.985834Z",
     "start_time": "2024-08-09T09:34:09.733351Z"
    }
   },
   "id": "a7c56825cced7a75"
  },
  {
   "cell_type": "code",
   "execution_count": 9,
   "outputs": [
    {
     "name": "stdout",
     "output_type": "stream",
     "text": [
      "[ 1  2  3  4  5  6  7  8  9 10]\n"
     ]
    }
   ],
   "source": [
    "# Завдання 1\n",
    "# Створіть одновимірний масив (вектор) зі значеннями натуральних чисел, починаючи з 1, та виведіть його значення.\n",
    "vector = np.arange(1, 11)\n",
    "print(vector)"
   ],
   "metadata": {
    "collapsed": false,
    "ExecuteTime": {
     "end_time": "2024-08-09T07:47:37.229335Z",
     "start_time": "2024-08-09T07:47:37.217472Z"
    }
   },
   "id": "75db253e1b013cdd"
  },
  {
   "cell_type": "code",
   "execution_count": 12,
   "outputs": [
    {
     "name": "stdout",
     "output_type": "stream",
     "text": [
      "[[ 0.54030231 -0.41614684 -0.9899925 ]\n",
      " [-0.65364362  0.28366219  0.96017029]\n",
      " [ 0.75390225 -0.14550003 -0.91113026]]\n"
     ]
    }
   ],
   "source": [
    "# Завдання 2\n",
    "# Створіть двовимірний масив (матрицю) розміром 3x3, заповніть його косинусами кожного натурального числа, починаючи з 1, та виведіть його значення.\n",
    "matrix = np.cos(np.arange(1, 10).reshape(3, 3))\n",
    "print(matrix)"
   ],
   "metadata": {
    "collapsed": false,
    "ExecuteTime": {
     "end_time": "2024-08-09T08:02:10.306786Z",
     "start_time": "2024-08-09T08:02:10.297912Z"
    }
   },
   "id": "68186579d3752663"
  },
  {
   "cell_type": "code",
   "execution_count": 6,
   "outputs": [
    {
     "name": "stdout",
     "output_type": "stream",
     "text": [
      "[[-5 -5  0]\n",
      " [-3  5 -4]\n",
      " [ 4  4  0]]\n",
      "Непарні числа виглядять так: [-5 -5 -3  5]\n"
     ]
    }
   ],
   "source": [
    "# Завдання 3\n",
    "# Створіть масив розміром 3x3, заповніть його випадковими цілими числами від -5 до 5 та виведіть непарні числа.\n",
    "arrays = np.array(np.random.randint(-5, 6, size=(3, 3)))\n",
    "print(arrays)\n",
    "unpaired_numbers = arrays[arrays % 2 != 0]\n",
    "print(\"Непарні числа виглядять так:\",unpaired_numbers)"
   ],
   "metadata": {
    "collapsed": false,
    "ExecuteTime": {
     "end_time": "2024-08-09T09:35:19.387577Z",
     "start_time": "2024-08-09T09:35:19.379259Z"
    }
   },
   "id": "c7ce474f2cdf7e2"
  },
  {
   "cell_type": "code",
   "execution_count": 7,
   "outputs": [
    {
     "name": "stdout",
     "output_type": "stream",
     "text": [
      "[[-0.33643375 -0.52406802 -0.16792328  0.09176737]\n",
      " [-0.33297333 -0.46994682  0.03886378 -0.04361633]\n",
      " [ 0.31915981 -0.45583836  0.36243828  0.62836042]\n",
      " [ 0.42782981 -0.30033038 -0.45138661 -0.24092739]]\n"
     ]
    }
   ],
   "source": [
    "# Завдання 4\n",
    "# Створіть масив розміром 4x4, заповніть його випадковими дійсними числами в діапазоні від -0.7 до 0.7 та виведіть його значення.\n",
    "arrays = np.array(np.random.uniform(-0.7, 0.7, size=(4, 4)))\n",
    "print(arrays)"
   ],
   "metadata": {
    "collapsed": false,
    "ExecuteTime": {
     "end_time": "2024-08-09T09:38:00.854798Z",
     "start_time": "2024-08-09T09:38:00.849726Z"
    }
   },
   "id": "d837d4dc0e18366d"
  },
  {
   "cell_type": "code",
   "execution_count": 8,
   "outputs": [
    {
     "name": "stdout",
     "output_type": "stream",
     "text": [
      "[22 26 31 32 32]\n",
      "[ 0 -6  3 -8  0]\n",
      "[121 160 238 240 256]\n"
     ]
    }
   ],
   "source": [
    "# Завдання 5\n",
    "#Створіть два одновимірних масиви розміром 5, заповніть їх випадковими цілими числами в діапазоні від 10 до 20 та виконайте на них поелементні операції додавання, віднімання та множення.\n",
    "array1 = np.array(np.random.randint(10, 21, size=5))\n",
    "array2 = np.array(np.random.randint(10, 21, size=5))\n",
    "print(array1 + array2)\n",
    "print(array1 - array2)\n",
    "print(array1 * array2)"
   ],
   "metadata": {
    "collapsed": false,
    "ExecuteTime": {
     "end_time": "2024-08-09T09:38:29.597618Z",
     "start_time": "2024-08-09T09:38:29.590599Z"
    }
   },
   "id": "a33456e67fbf6285"
  },
  {
   "cell_type": "code",
   "execution_count": 21,
   "outputs": [
    {
     "name": "stdout",
     "output_type": "stream",
     "text": [
      "[[126 155 153  89]\n",
      " [118 136 128  78]\n",
      " [131 139 126 109]\n",
      " [210 239 213 148]]\n"
     ]
    }
   ],
   "source": [
    "# Завдання 6\n",
    "# Створіть дві матриці 4x4, заповніть їх довільними цілими числами від 1 до 10 та знайдіть їх добуток\n",
    "matrix1 = np.random.randint(1, 11, size=(4,4))\n",
    "matrix2 = np.random.randint(1, 11, size=(4,4))\n",
    "result = np.dot(matrix1, matrix2)\n",
    "print(result)"
   ],
   "metadata": {
    "collapsed": false,
    "ExecuteTime": {
     "end_time": "2024-08-09T08:20:37.842677Z",
     "start_time": "2024-08-09T08:20:37.839552Z"
    }
   },
   "id": "282a0985f7518a9b"
  },
  {
   "cell_type": "code",
   "execution_count": 22,
   "outputs": [
    {
     "name": "stdout",
     "output_type": "stream",
     "text": [
      "[[43 29 36]\n",
      " [32 13 28]]\n"
     ]
    }
   ],
   "source": [
    "# Завдання 7\n",
    "# Створіть дві матриці розміром 2x3 та 3x3, заповніть їх випадковими цілими числами в діапазоні від 1 до 5 та перемножте їх між собою.\n",
    "matrix1 = np.random.randint(1, 6, size=(2, 3))\n",
    "matrix2 = np.random.randint(1, 6, size=(3, 3))\n",
    "result = np.dot(matrix1, matrix2)\n",
    "print(result)"
   ],
   "metadata": {
    "collapsed": false,
    "ExecuteTime": {
     "end_time": "2024-08-09T08:23:09.691257Z",
     "start_time": "2024-08-09T08:23:09.683688Z"
    }
   },
   "id": "ea196dc789755ea7"
  },
  {
   "cell_type": "code",
   "execution_count": 25,
   "outputs": [
    {
     "name": "stdout",
     "output_type": "stream",
     "text": [
      "Матриця до обернення: \n",
      " [[12  9]\n",
      " [ 9  1]]\n",
      "Матриця після обернення: \n",
      " [[-0.01449275  0.13043478]\n",
      " [ 0.13043478 -0.17391304]]\n"
     ]
    }
   ],
   "source": [
    "# Завдання 8\n",
    "# Створіть матрицю розміром 2x2, заповніть її випадковими цілими числами в діапазоні від 1 до 12 та знайдіть її обернену матрицю.\n",
    "matrix = np.random.randint(1, 13, size=(2, 2))\n",
    "print(\"Матриця до обернення:\", \"\\n\", matrix)\n",
    "inverse_matrix = np.linalg.inv(matrix)\n",
    "print(\"Матриця після обернення:\", \"\\n\", inverse_matrix)"
   ],
   "metadata": {
    "collapsed": false,
    "ExecuteTime": {
     "end_time": "2024-08-09T08:30:20.081638Z",
     "start_time": "2024-08-09T08:30:20.077896Z"
    }
   },
   "id": "3edde85832cf1e9"
  },
  {
   "cell_type": "code",
   "execution_count": 29,
   "outputs": [
    {
     "name": "stdout",
     "output_type": "stream",
     "text": [
      "Матриця до транспонування \n",
      " [[0.64615937 0.2403161  0.1175385 ]\n",
      " [0.73813842 0.48391117 0.30830301]\n",
      " [0.30559824 0.10524921 0.27731282]]\n",
      "Матриця після транспонування \n",
      " [[0.64615937 0.73813842 0.30559824]\n",
      " [0.2403161  0.48391117 0.10524921]\n",
      " [0.1175385  0.30830301 0.27731282]]\n"
     ]
    }
   ],
   "source": [
    "# Завдання 9\n",
    "# Створіть матрицю розміром 3x3, заповніть її випадковими дійсними числами в діапазоні від 0 до 1 та транспонуйте її\n",
    "matrix = np.random.uniform(0, 1, size=(3, 3))\n",
    "print(\"Матриця до транспонування\",\"\\n\", matrix)\n",
    "print(\"Матриця після транспонування\",\"\\n\", matrix.T)"
   ],
   "metadata": {
    "collapsed": false,
    "ExecuteTime": {
     "end_time": "2024-08-09T08:32:27.373257Z",
     "start_time": "2024-08-09T08:32:27.370274Z"
    }
   },
   "id": "7f84a84d99b5264b"
  },
  {
   "cell_type": "code",
   "execution_count": 36,
   "outputs": [
    {
     "name": "stdout",
     "output_type": "stream",
     "text": [
      "[[16.81292858]\n",
      " [20.57625931]\n",
      " [10.48822745]]\n"
     ]
    }
   ],
   "source": [
    "# Завдання 10\n",
    "# Створіть матрицю розміром 3x4 та вектор розміром 4x1, заповніть матрицю випадковими цілими числами в діапазоні від 1 до 10, а вектор - випадковими дійсними числами від 0 до 1, і знайдіть добуток матриці на вектор.\n",
    "matrix = np.random.randint(1, 11, size=(3, 4))\n",
    "vector = np.random.uniform(0, 1, size=(4, 1))\n",
    "result = np.dot(matrix, vector)\n",
    "print(result)\n"
   ],
   "metadata": {
    "collapsed": false,
    "ExecuteTime": {
     "end_time": "2024-08-09T08:40:31.294764Z",
     "start_time": "2024-08-09T08:40:31.290323Z"
    }
   },
   "id": "a67f0881c71e8c99"
  },
  {
   "cell_type": "code",
   "execution_count": 37,
   "outputs": [
    {
     "name": "stdout",
     "output_type": "stream",
     "text": [
      "[[16.24570338]\n",
      " [ 7.00749237]]\n"
     ]
    }
   ],
   "source": [
    "# Завдання 11\n",
    "# Створіть матрицю розміром 2x3 та вектор розміром 3x1, заповніть матрицю випадковими дійсними числами від 0 до 1, а вектор - випадковими цілими числами в діапазоні від 1 до 10, і знайдіть добуток матриці на вектор.\n",
    "matrix = np.random.uniform(0, 1, size=(2, 3))\n",
    "vector = np.random.randint(1, 11, size=(3,1))\n",
    "result = np.dot(matrix, vector)\n",
    "print(result)"
   ],
   "metadata": {
    "collapsed": false,
    "ExecuteTime": {
     "end_time": "2024-08-09T08:43:25.698144Z",
     "start_time": "2024-08-09T08:43:25.689965Z"
    }
   },
   "id": "5aa980dd967c623c"
  },
  {
   "cell_type": "code",
   "execution_count": 41,
   "outputs": [
    {
     "name": "stdout",
     "output_type": "stream",
     "text": [
      "Перша матриця: \n",
      " [[3 1 5]\n",
      " [3 3 1]\n",
      " [1 3 1]]\n",
      "Друга матриця: \n",
      " [[5 2 5]\n",
      " [4 4 5]\n",
      " [4 1 1]]\n",
      "Сума всіх елементів першої матриці: 21\n"
     ]
    }
   ],
   "source": [
    "# Завдання 12\n",
    "# Створіть дві матриці розміром 3x3, заповніть їх випадковими цілими числами в діапазоні від 1 до 5 та знайдіть суму всіх елементів першої матриці.\n",
    "matrix1 = np.random.randint(1, 6, (3, 3))\n",
    "matrix2 = np.random.randint(1, 6, (3, 3))\n",
    "print(\"Перша матриця:\", \"\\n\", matrix1)\n",
    "print(\"Друга матриця:\", \"\\n\", matrix2)\n",
    "print(\"Сума всіх елементів першої матриці:\", np.sum(matrix1))"
   ],
   "metadata": {
    "collapsed": false,
    "ExecuteTime": {
     "end_time": "2024-08-09T08:56:06.720657Z",
     "start_time": "2024-08-09T08:56:06.710026Z"
    }
   },
   "id": "1bd8b5e82455eb4"
  },
  {
   "cell_type": "code",
   "execution_count": 43,
   "outputs": [
    {
     "name": "stdout",
     "output_type": "stream",
     "text": [
      "Перша матриця: \n",
      " [[ 0.89685786  0.60850902 -1.76416921  1.96132741]\n",
      " [-1.20769001 -0.35580808  0.11706873 -1.1424536 ]\n",
      " [-0.76831123  1.93674885 -1.9212246   1.49531511]\n",
      " [ 1.14790072  0.45709794 -1.51746312 -0.65896878]]\n",
      "Друга матриця: \n",
      " [[-0.13728388  1.97018567 -0.20033705  1.2250373 ]\n",
      " [ 1.89158942 -0.49071533 -1.31021011  1.53014592]\n",
      " [ 0.95274127 -1.97338152  1.53203295  0.97893972]\n",
      " [ 1.48016245  1.32759264 -1.2899835  -0.64816155]]\n",
      "Добуток елементів матриць: \n",
      " [[-0.12312413  1.19887575  0.35342845  2.40269924]\n",
      " [-2.28445365  0.17460048 -0.15338463 -1.74812071]\n",
      " [-0.73200182 -3.8219444  -2.9433794   1.46382336]\n",
      " [ 1.69907954  0.60683986  1.95750239  0.42711822]]\n"
     ]
    }
   ],
   "source": [
    "# Завдання 13\n",
    "# Створіть дві матриці розміром 4x4, заповніть їх випадковими дійсними числами в діапазоні від -2 до 2 та знайдіть добуток їх елементів.\n",
    "matrix1 = np.random.uniform(-2, 2, size=(4, 4))\n",
    "matrix2 = np.random.uniform(-2, 2, size=(4, 4))\n",
    "print(\"Перша матриця:\", \"\\n\", matrix1)\n",
    "print(\"Друга матриця:\", \"\\n\", matrix2)\n",
    "print(\"Добуток елементів матриць:\",\"\\n\", matrix1 * matrix2)"
   ],
   "metadata": {
    "collapsed": false,
    "ExecuteTime": {
     "end_time": "2024-08-09T08:56:53.005994Z",
     "start_time": "2024-08-09T08:56:53.002178Z"
    }
   },
   "id": "64fc61c4d05271f8"
  },
  {
   "cell_type": "code",
   "execution_count": 44,
   "outputs": [
    {
     "name": "stdout",
     "output_type": "stream",
     "text": [
      "[[-2.04403591 -4.33975793  8.57490037]\n",
      " [-5.23409914 -2.22706288 -1.31206928]\n",
      " [ 9.43394116  4.2897881  -0.68628649]]\n",
      "Найменший елемент матриці: -5.23409913799902\n"
     ]
    }
   ],
   "source": [
    "# Завдання 14\n",
    "# Створіть матрицю розміром 3x3, заповніть її випадковими дійсними числами в діапазоні від -10 до 10 та знайдіть найменший елемент матриці.\n",
    "matrix = np.random.uniform(-10, 10, size=(3, 3))\n",
    "print(matrix)\n",
    "min_element = np.min(matrix)\n",
    "print(\"Найменший елемент матриці:\", min_element)"
   ],
   "metadata": {
    "collapsed": false,
    "ExecuteTime": {
     "end_time": "2024-08-09T09:01:21.826661Z",
     "start_time": "2024-08-09T09:01:21.821621Z"
    }
   },
   "id": "18cefd1eb38408f8"
  },
  {
   "cell_type": "code",
   "execution_count": 46,
   "outputs": [
    {
     "name": "stdout",
     "output_type": "stream",
     "text": [
      "[[0.10504399 0.06563349 0.87928394]\n",
      " [0.46078325 0.70958027 0.99747015]\n",
      " [0.27679102 0.86405289 0.36276746]]\n",
      "Вектор-стовпчик (сума елементів кожного стовпця): [0.84261826 1.63926665 2.23952154]\n"
     ]
    }
   ],
   "source": [
    "# Завдання 15\n",
    "# Створіть матрицю розміром 3x3, заповніть її випадковими дійсними числами в діапазоні від 0 до 1 та знайдіть вектор-стовпчик, що містить суму елементів кожного стовпця матриці.\n",
    "matrix = np.random.uniform(0,1, size=(3,3))\n",
    "print(matrix)\n",
    "column_sums = np.sum(matrix, axis=0)\n",
    "print(\"Вектор-стовпчик (сума елементів кожного стовпця):\", column_sums)"
   ],
   "metadata": {
    "collapsed": false,
    "ExecuteTime": {
     "end_time": "2024-08-09T09:17:46.217057Z",
     "start_time": "2024-08-09T09:17:46.210117Z"
    }
   },
   "id": "e84c05e593ae964c"
  },
  {
   "cell_type": "raw",
   "source": [
    "Висновок: на даній лабораторній роботі було розглянуто тему вступ до машинного навчання та елементи лінійної алгебри. \n",
    "Було досліджено бібліотеку Numpy мови програмування Python. \n",
    "Під час виконання лабораторної роботи досліджено функції бібліотеки Numpy для побудов та обчислень матриці,\n",
    "робота з одновимірними та двовимірними масивами."
   ],
   "metadata": {
    "collapsed": false
   },
   "id": "31335234f2bf1088"
  },
  {
   "cell_type": "markdown",
   "source": [],
   "metadata": {
    "collapsed": false
   },
   "id": "f4dda50569e2cf65"
  }
 ],
 "metadata": {
  "kernelspec": {
   "display_name": "Python 3",
   "language": "python",
   "name": "python3"
  },
  "language_info": {
   "codemirror_mode": {
    "name": "ipython",
    "version": 2
   },
   "file_extension": ".py",
   "mimetype": "text/x-python",
   "name": "python",
   "nbconvert_exporter": "python",
   "pygments_lexer": "ipython2",
   "version": "2.7.6"
  }
 },
 "nbformat": 4,
 "nbformat_minor": 5
}
